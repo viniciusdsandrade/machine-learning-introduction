{
 "cells": [
  {
   "cell_type": "code",
   "id": "initial_id",
   "metadata": {
    "collapsed": true,
    "ExecuteTime": {
     "end_time": "2024-10-26T18:02:52.107395Z",
     "start_time": "2024-10-26T18:02:52.103633Z"
    }
   },
   "source": [
    "import pandas as pd\n",
    "import numpy as np"
   ],
   "outputs": [],
   "execution_count": 10
  },
  {
   "metadata": {
    "ExecuteTime": {
     "end_time": "2024-10-26T18:02:52.120533Z",
     "start_time": "2024-10-26T18:02:52.114469Z"
    }
   },
   "cell_type": "code",
   "source": [
    "# Carregando o arquivo CSV\n",
    "df = pd.read_csv('data/human-development-index.csv')"
   ],
   "id": "61867000bb4734c3",
   "outputs": [],
   "execution_count": 11
  },
  {
   "metadata": {
    "ExecuteTime": {
     "end_time": "2024-10-26T18:02:52.137272Z",
     "start_time": "2024-10-26T18:02:52.128698Z"
    }
   },
   "cell_type": "code",
   "source": [
    "# Exibindo as primeiras linhas do DataFrame\n",
    "df.head()"
   ],
   "id": "7c6d3625c2a41027",
   "outputs": [
    {
     "data": {
      "text/plain": [
       "   Rank                   País    IDH IDH Ajustado à Desigualdade (IDHAD)  \\\n",
       "0     1                  Suíça  0.967                               0.891   \n",
       "1     2                Noruega  0.966                               0.903   \n",
       "2     3               Islândia  0.959                               0.910   \n",
       "3     4  Hong Kong China (RAE)  0.956                               0.840   \n",
       "4     5              Dinamarca  0.952                               0.898   \n",
       "\n",
       "  Índice de Desenvolvimento Humano por Género  \\\n",
       "0                                       0.971   \n",
       "1                                       0.986   \n",
       "2                                       0.975   \n",
       "3                                       0.972   \n",
       "4                                       0.981   \n",
       "\n",
       "  Índice de Desigualdade de Género Índice de Pobreza Multidimensional  \\\n",
       "0                            0.018                                  .   \n",
       "1                            0.012                                  .   \n",
       "2                            0.039                                  .   \n",
       "3                                .                                  .   \n",
       "4                            0.009                                  .   \n",
       "\n",
       "  IDH ajustado à pressão sobre o planeta Perda Global (%) Diferença do IDH (%)  \n",
       "0                                      .             14.6                0.826  \n",
       "1                                      .             16.4                0.808  \n",
       "2                                      .             16.0                0.806  \n",
       "3                                      .                .                0.745  \n",
       "4                                      .             11.9                0.839  "
      ],
      "text/html": [
       "<div>\n",
       "<style scoped>\n",
       "    .dataframe tbody tr th:only-of-type {\n",
       "        vertical-align: middle;\n",
       "    }\n",
       "\n",
       "    .dataframe tbody tr th {\n",
       "        vertical-align: top;\n",
       "    }\n",
       "\n",
       "    .dataframe thead th {\n",
       "        text-align: right;\n",
       "    }\n",
       "</style>\n",
       "<table border=\"1\" class=\"dataframe\">\n",
       "  <thead>\n",
       "    <tr style=\"text-align: right;\">\n",
       "      <th></th>\n",
       "      <th>Rank</th>\n",
       "      <th>País</th>\n",
       "      <th>IDH</th>\n",
       "      <th>IDH Ajustado à Desigualdade (IDHAD)</th>\n",
       "      <th>Índice de Desenvolvimento Humano por Género</th>\n",
       "      <th>Índice de Desigualdade de Género</th>\n",
       "      <th>Índice de Pobreza Multidimensional</th>\n",
       "      <th>IDH ajustado à pressão sobre o planeta</th>\n",
       "      <th>Perda Global (%)</th>\n",
       "      <th>Diferença do IDH (%)</th>\n",
       "    </tr>\n",
       "  </thead>\n",
       "  <tbody>\n",
       "    <tr>\n",
       "      <th>0</th>\n",
       "      <td>1</td>\n",
       "      <td>Suíça</td>\n",
       "      <td>0.967</td>\n",
       "      <td>0.891</td>\n",
       "      <td>0.971</td>\n",
       "      <td>0.018</td>\n",
       "      <td>.</td>\n",
       "      <td>.</td>\n",
       "      <td>14.6</td>\n",
       "      <td>0.826</td>\n",
       "    </tr>\n",
       "    <tr>\n",
       "      <th>1</th>\n",
       "      <td>2</td>\n",
       "      <td>Noruega</td>\n",
       "      <td>0.966</td>\n",
       "      <td>0.903</td>\n",
       "      <td>0.986</td>\n",
       "      <td>0.012</td>\n",
       "      <td>.</td>\n",
       "      <td>.</td>\n",
       "      <td>16.4</td>\n",
       "      <td>0.808</td>\n",
       "    </tr>\n",
       "    <tr>\n",
       "      <th>2</th>\n",
       "      <td>3</td>\n",
       "      <td>Islândia</td>\n",
       "      <td>0.959</td>\n",
       "      <td>0.910</td>\n",
       "      <td>0.975</td>\n",
       "      <td>0.039</td>\n",
       "      <td>.</td>\n",
       "      <td>.</td>\n",
       "      <td>16.0</td>\n",
       "      <td>0.806</td>\n",
       "    </tr>\n",
       "    <tr>\n",
       "      <th>3</th>\n",
       "      <td>4</td>\n",
       "      <td>Hong Kong China (RAE)</td>\n",
       "      <td>0.956</td>\n",
       "      <td>0.840</td>\n",
       "      <td>0.972</td>\n",
       "      <td>.</td>\n",
       "      <td>.</td>\n",
       "      <td>.</td>\n",
       "      <td>.</td>\n",
       "      <td>0.745</td>\n",
       "    </tr>\n",
       "    <tr>\n",
       "      <th>4</th>\n",
       "      <td>5</td>\n",
       "      <td>Dinamarca</td>\n",
       "      <td>0.952</td>\n",
       "      <td>0.898</td>\n",
       "      <td>0.981</td>\n",
       "      <td>0.009</td>\n",
       "      <td>.</td>\n",
       "      <td>.</td>\n",
       "      <td>11.9</td>\n",
       "      <td>0.839</td>\n",
       "    </tr>\n",
       "  </tbody>\n",
       "</table>\n",
       "</div>"
      ]
     },
     "execution_count": 12,
     "metadata": {},
     "output_type": "execute_result"
    }
   ],
   "execution_count": 12
  },
  {
   "metadata": {
    "ExecuteTime": {
     "end_time": "2024-10-26T18:02:52.684351Z",
     "start_time": "2024-10-26T18:02:52.165766Z"
    }
   },
   "cell_type": "code",
   "source": [
    "# Substituindo '.' por NaN\n",
    "df.replace('.', np.nan, inplace=True)\n",
    "\n",
    "# Lista de colunas numéricas\n",
    "colunas_numericas = ['IDH', 'IDH Ajustado à Desigualdade (IDHAD)',\n",
    "                     'Índice de Desenvolvimento Humano por Género',\n",
    "                     'Índice de Desigualdade de Género',\n",
    "                     'Índice de Pobreza Multidimensional',\n",
    "                     'IDH ajustado à pressão sobre o planeta',\n",
    "                     'Perda Global (%)', 'Diferença do IDH (%)']\n",
    "\n",
    "# Convertendo colunas para numérico\n",
    "for coluna in colunas_numericas:\n",
    "    df[coluna] = pd.to_numeric(df[coluna], errors='coerce')\n",
    "\n",
    "# Removendo linhas duplicadas\n",
    "df.drop_duplicates(inplace=True)\n",
    "\n",
    "# Removendo linhas com IDH NaN\n",
    "df_idh = df[['País', 'IDH']].dropna()\n",
    "\n",
    "# Ordenando os países pelo IDH (decrescente)\n",
    "top10_idh = df_idh.sort_values(by='IDH', ascending=False).head(10)\n",
    "print(\"Top 10 países pelo Índice de Desenvolvimento Humano (IDH):\\n\")\n",
    "print(top10_idh.to_string(index=False))\n",
    "# Salvando em CSV\n",
    "top10_idh.to_csv('result/top-10-idh.csv', index=False)\n",
    "\n",
    "# Salvando em Excel\n",
    "top10_idh.to_excel('result/top-10-idh.xlsx', index=False)"
   ],
   "id": "80290ac845c76360",
   "outputs": [
    {
     "name": "stdout",
     "output_type": "stream",
     "text": [
      "Top 10 países pelo Índice de Desenvolvimento Humano (IDH):\n",
      "\n",
      "                 País   IDH\n",
      "                Suíça 0.967\n",
      "              Noruega 0.966\n",
      "             Islândia 0.959\n",
      "Hong Kong China (RAE) 0.956\n",
      "            Dinamarca 0.952\n",
      "               Suécia 0.952\n",
      "             Alemanha 0.950\n",
      "              Irlanda 0.950\n",
      "            Singapura 0.949\n",
      "            Austrália 0.946\n"
     ]
    }
   ],
   "execution_count": 13
  },
  {
   "metadata": {
    "ExecuteTime": {
     "end_time": "2024-10-26T18:02:52.759316Z",
     "start_time": "2024-10-26T18:02:52.709822Z"
    }
   },
   "cell_type": "code",
   "source": [
    "# Removendo linhas com IDHAD NaN\n",
    "df_idhad = df[['País', 'IDH Ajustado à Desigualdade (IDHAD)']].dropna()\n",
    "\n",
    "# Ordenando os países pelo IDHAD (decrescente)\n",
    "top10_idhad = df_idhad.sort_values(by='IDH Ajustado à Desigualdade (IDHAD)', ascending=False).head(10)\n",
    "\n",
    "print(\"Top 10 países pelo IDH Ajustado à Desigualdade (IDHAD):\\n\")\n",
    "print(top10_idhad.to_string(index=False))\n",
    "\n",
    "# Salvando em CSV\n",
    "top10_idhad.to_csv('result/top-10-idhad.csv', index=False)\n",
    "\n",
    "# Salvando em Excel\n",
    "top10_idhad.to_excel('result/top-10-idhad.xlsx', index=False)"
   ],
   "id": "2a919447cfd88de",
   "outputs": [
    {
     "name": "stdout",
     "output_type": "stream",
     "text": [
      "Top 10 países pelo IDH Ajustado à Desigualdade (IDHAD):\n",
      "\n",
      "         País  IDH Ajustado à Desigualdade (IDHAD)\n",
      "     Islândia                                0.910\n",
      "      Noruega                                0.903\n",
      "    Dinamarca                                0.898\n",
      "        Suíça                                0.891\n",
      "      Irlanda                                0.886\n",
      "    Finlândia                                0.886\n",
      "Países Baixos                                0.885\n",
      "    Eslovénia                                0.882\n",
      "     Alemanha                                0.881\n",
      "       Suécia                                0.878\n"
     ]
    }
   ],
   "execution_count": 14
  },
  {
   "metadata": {
    "ExecuteTime": {
     "end_time": "2024-10-26T18:02:52.793348Z",
     "start_time": "2024-10-26T18:02:52.778547Z"
    }
   },
   "cell_type": "code",
   "source": [
    "# Removendo linhas com índice NaN\n",
    "df_idh_genero = df[['País', 'Índice de Desenvolvimento Humano por Género']].dropna()\n",
    "\n",
    "# Ordenando os países (decrescente)\n",
    "top10_idh_genero = df_idh_genero.sort_values(by='Índice de Desenvolvimento Humano por Género', ascending=False).head(10)\n",
    "print(\"Top 10 países pelo Índice de Desenvolvimento Humano por Género:\\n\")\n",
    "print(top10_idh_genero.to_string(index=False))\n",
    "# Salvando em CSV\n",
    "top10_idh_genero.to_csv('result/top-10-idh-genero.csv', index=False)\n",
    "\n",
    "# Salvando em Excel\n",
    "top10_idh_genero.to_excel('result/top-10-idh-genero.xlsx', index=False)"
   ],
   "id": "bb1b475321c1a4b0",
   "outputs": [
    {
     "name": "stdout",
     "output_type": "stream",
     "text": [
      "Top 10 países pelo Índice de Desenvolvimento Humano por Género:\n",
      "\n",
      "                   País  Índice de Desenvolvimento Humano por Género\n",
      "                Andorra                                        8.400\n",
      "              Seicheles                                        1.064\n",
      "      Trindade e Tobago                                        1.037\n",
      "                  Nauru                                        1.037\n",
      "Moldávia (República da)                                        1.033\n",
      "               Mongólia                                        1.032\n",
      "               Barbados                                        1.030\n",
      "   República Dominicana                                        1.029\n",
      "               Lituânia                                        1.028\n",
      "                  Catar                                        1.027\n"
     ]
    }
   ],
   "execution_count": 15
  },
  {
   "metadata": {
    "ExecuteTime": {
     "end_time": "2024-10-26T18:02:52.843739Z",
     "start_time": "2024-10-26T18:02:52.828622Z"
    }
   },
   "cell_type": "code",
   "source": [
    "# Removendo linhas com índice NaN\n",
    "df_pobreza = df[['País', 'Índice de Pobreza Multidimensional']].dropna()\n",
    "\n",
    "# Verificando se há dados disponíveis\n",
    "if not df_pobreza.empty:\n",
    "    # Ordenando os países (crescente - menor pobreza)\n",
    "    top10_pobreza = df_pobreza.sort_values(by='Índice de Pobreza Multidimensional', ascending=True).head(10)\n",
    "\n",
    "    # Exibindo os Top 10 países\n",
    "    print(\"Top 10 países pelo Índice de Pobreza Multidimensional (menor para maior):\\n\")\n",
    "    print(top10_pobreza.to_string(index=False))\n",
    "\n",
    "    # Salvando os resultados\n",
    "    top10_pobreza.to_csv('result/top-10-pobreza-multidimensional.csv', index=False)\n",
    "    top10_pobreza.to_excel('result/top-10-pobreza-multidimensional.xlsx', index=False)\n",
    "else:\n",
    "    print(\"Não há dados disponíveis para o Índice de Pobreza Multidimensional.\")"
   ],
   "id": "660731dfa64e3a6",
   "outputs": [
    {
     "name": "stdout",
     "output_type": "stream",
     "text": [
      "Top 10 países pelo Índice de Pobreza Multidimensional (menor para maior):\n",
      "\n",
      "                 País  Índice de Pobreza Multidimensional\n",
      "              Ucrânia                                 0.2\n",
      "              Geórgia                                 0.3\n",
      "             Jordânia                                 0.4\n",
      "   Macedónia do Norte                                 0.4\n",
      "        Quirguizistão                                 0.4\n",
      "           Costa Rica                                 0.5\n",
      "Palestina (Estado da)                                 0.6\n",
      "                 Cuba                                 0.7\n",
      "              Tunísia                                 0.8\n",
      "             Maldivas                                 0.8\n"
     ]
    }
   ],
   "execution_count": 16
  },
  {
   "metadata": {
    "ExecuteTime": {
     "end_time": "2024-10-26T18:02:52.894599Z",
     "start_time": "2024-10-26T18:02:52.878211Z"
    }
   },
   "cell_type": "code",
   "source": [
    "# Removendo linhas com índice NaN\n",
    "df_idh_planeta = df[['País', 'IDH ajustado à pressão sobre o planeta']].dropna()\n",
    "\n",
    "# Ordenando os países (decrescente)\n",
    "top10_idh_planeta = df_idh_planeta.sort_values(by='IDH ajustado à pressão sobre o planeta', ascending=False).head(10)\n",
    "\n",
    "print(\"Top 10 países pelo IDH ajustado à pressão sobre o planeta:\\n\")\n",
    "print(top10_idh_planeta.to_string(index=False))\n",
    "\n",
    "# Salvando em CSV\n",
    "top10_idh_planeta.to_csv('result/top-10-idh-ajustado-planeta.csv', index=False)\n",
    "\n",
    "# Salvando em Excel\n",
    "top10_idh_planeta.to_excel('result/top-10-idh-ajustado-planeta.xlsx', index=False)"
   ],
   "id": "9a34db4c45eb1849",
   "outputs": [
    {
     "name": "stdout",
     "output_type": "stream",
     "text": [
      "Top 10 países pelo IDH ajustado à pressão sobre o planeta:\n",
      "\n",
      "                     País  IDH ajustado à pressão sobre o planeta\n",
      "                    Níger                                    66.1\n",
      "                    Chade                                    61.4\n",
      "               Moçambique                                    60.0\n",
      "República Centro-Africana                                    57.4\n",
      "                    Guiné                                    56.4\n",
      "               Madagáscar                                    56.4\n",
      "               Mauritânia                                    56.0\n",
      "                   Angola                                    55.3\n",
      "                    Benin                                    55.0\n",
      "                     Mali                                    55.0\n"
     ]
    }
   ],
   "execution_count": 17
  },
  {
   "metadata": {
    "ExecuteTime": {
     "end_time": "2024-10-26T18:02:52.950111Z",
     "start_time": "2024-10-26T18:02:52.931980Z"
    }
   },
   "cell_type": "code",
   "source": [
    "# Substituindo '.' por NaN\n",
    "df.replace('.', np.nan, inplace=True)\n",
    "\n",
    "# Lista de colunas numéricas\n",
    "colunas_numericas = ['IDH', 'IDH Ajustado à Desigualdade (IDHAD)',\n",
    "                     'Índice de Desenvolvimento Humano por Género',\n",
    "                     'Índice de Desigualdade de Género',\n",
    "                     'Índice de Pobreza Multidimensional',\n",
    "                     'IDH ajustado à pressão sobre o planeta',\n",
    "                     'Perda Global (%)', 'Diferença do IDH (%)']\n",
    "\n",
    "# Convertendo colunas para numérico\n",
    "for coluna in colunas_numericas:\n",
    "    df[coluna] = pd.to_numeric(df[coluna], errors='coerce')\n",
    "\n",
    "# Removendo linhas duplicadas\n",
    "df.drop_duplicates(inplace=True)\n",
    "\n",
    "# Removendo linhas com IDH NaN\n",
    "df_idh = df[['País', 'IDH']].dropna()\n",
    "\n",
    "# Ordenando os países pelo IDH (crescente)\n",
    "bottom20_idh = df_idh.sort_values(by='IDH', ascending=True).head(20)\n",
    "print(\"20 piores países pelo Índice de Desenvolvimento Humano (IDH):\\n\")\n",
    "print(bottom20_idh.to_string(index=False))\n",
    "# Salvando em CSV\n",
    "bottom20_idh.to_csv('result/bottom-20-idh.csv', index=False)\n",
    "\n",
    "# Salvando em Excel\n",
    "bottom20_idh.to_excel('result/bottom-20-idh.xlsx', index=False)"
   ],
   "id": "ed54d3f3f50ad0a5",
   "outputs": [
    {
     "name": "stdout",
     "output_type": "stream",
     "text": [
      "20 piores países pelo Índice de Desenvolvimento Humano (IDH):\n",
      "\n",
      "                            País   IDH\n",
      "                         Somália 0.380\n",
      "                    Sudão do Sul 0.381\n",
      "       República Centro-Africana 0.387\n",
      "                           Níger 0.394\n",
      "                           Chade 0.394\n",
      "                            Mali 0.410\n",
      "                         Burundi 0.420\n",
      "                           Iémen 0.424\n",
      "                  Burquina Fasso 0.438\n",
      "                      Serra Leoa 0.458\n",
      "                      Moçambique 0.461\n",
      "                     Afeganistão 0.462\n",
      "                           Guiné 0.471\n",
      "Congo (República Democrática do) 0.481\n",
      "                    Guiné-Bissau 0.483\n",
      "                      Madagáscar 0.487\n",
      "                         Libéria 0.487\n",
      "                         Etiópia 0.492\n",
      "                        Eritreia 0.493\n",
      "                          Gâmbia 0.495\n"
     ]
    }
   ],
   "execution_count": 18
  },
  {
   "metadata": {
    "ExecuteTime": {
     "end_time": "2024-10-26T18:02:52.992090Z",
     "start_time": "2024-10-26T18:02:52.973262Z"
    }
   },
   "cell_type": "code",
   "source": [
    "# Removendo linhas com IDHAD NaN\n",
    "df_idhad = df[['País', 'IDH Ajustado à Desigualdade (IDHAD)']].dropna()\n",
    "\n",
    "# Ordenando os países pelo IDHAD (crescente)\n",
    "bottom20_idhad = df_idhad.sort_values(by='IDH Ajustado à Desigualdade (IDHAD)', ascending=True).head(20)\n",
    "\n",
    "print(\"20 piores países pelo IDH Ajustado à Desigualdade (IDHAD):\\n\")\n",
    "print(bottom20_idhad.to_string(index=False))\n",
    "\n",
    "# Salvando em CSV\n",
    "bottom20_idhad.to_csv('result/bottom-20-idhad.csv', index=False)\n",
    "\n",
    "# Salvando em Excel\n",
    "bottom20_idhad.to_excel('result/bottom-20-idhad.xlsx', index=False)"
   ],
   "id": "cd628a6b84036d84",
   "outputs": [
    {
     "name": "stdout",
     "output_type": "stream",
     "text": [
      "20 piores países pelo IDH Ajustado à Desigualdade (IDHAD):\n",
      "\n",
      "                            País  IDH Ajustado à Desigualdade (IDHAD)\n",
      "                    Sudão do Sul                                0.222\n",
      "       República Centro-Africana                                0.237\n",
      "                           Chade                                0.238\n",
      "                  Burquina Fasso                                0.261\n",
      "                           Níger                                0.262\n",
      "                      Moçambique                                0.270\n",
      "                         Burundi                                0.273\n",
      "                      Serra Leoa                                0.277\n",
      "                            Mali                                0.277\n",
      "                           Guiné                                0.285\n",
      "                           Iémen                                0.285\n",
      "                     Afeganistão                                0.300\n",
      "                           Benin                                0.309\n",
      "                    Guiné-Bissau                                0.310\n",
      "                         Libéria                                0.310\n",
      "                          Gâmbia                                0.311\n",
      "Congo (República Democrática do)                                0.315\n",
      "                 Costa do Marfim                                0.318\n",
      "                         Etiópia                                0.324\n",
      "                      Madagáscar                                0.328\n"
     ]
    }
   ],
   "execution_count": 19
  },
  {
   "metadata": {
    "ExecuteTime": {
     "end_time": "2024-10-26T18:02:53.027212Z",
     "start_time": "2024-10-26T18:02:53.008865Z"
    }
   },
   "cell_type": "code",
   "source": [
    "# Removendo linhas com índice NaN\n",
    "df_idh_genero = df[['País', 'Índice de Desenvolvimento Humano por Género']].dropna()\n",
    "\n",
    "# Ordenando os países (crescente)\n",
    "bottom20_idh_genero = df_idh_genero.sort_values(by='Índice de Desenvolvimento Humano por Género', ascending=True).head(20)\n",
    "\n",
    "print(\"20 piores países pelo Índice de Desenvolvimento Humano por Género:\\n\")\n",
    "print(bottom20_idh_genero.to_string(index=False))\n",
    "\n",
    "# Salvando em CSV\n",
    "bottom20_idh_genero.to_csv('result/bottom-20-idh-genero.csv', index=False)\n",
    "\n",
    "# Salvando em Excel\n",
    "bottom20_idh_genero.to_excel('result/bottom-20-idh-genero.xlsx', index=False)"
   ],
   "id": "6f6adb78c78f0961",
   "outputs": [
    {
     "name": "stdout",
     "output_type": "stream",
     "text": [
      "20 piores países pelo Índice de Desenvolvimento Humano por Género:\n",
      "\n",
      "                    País  Índice de Desenvolvimento Humano por Género\n",
      "                   Iémen                                        0.456\n",
      "             Afeganistão                                        0.622\n",
      "                 Somália                                        0.769\n",
      "                   Chade                                        0.776\n",
      "                  Iraque                                        0.786\n",
      "República Árabe da Síria                                        0.805\n",
      "                   Guiné                                        0.818\n",
      "                   Níger                                        0.826\n",
      "                    Mali                                        0.830\n",
      "               Paquistão                                        0.834\n",
      "                  Jibuti                                        0.844\n",
      "                    Togo                                        0.848\n",
      "                   Benin                                        0.848\n",
      "               Quiribati                                        0.849\n",
      "                Marrocos                                        0.851\n",
      "                   Índia                                        0.852\n",
      "                 Libéria                                        0.860\n",
      "         Costa do Marfim                                        0.861\n",
      "            Guiné-Bissau                                        0.862\n",
      "                Jordânia                                        0.863\n"
     ]
    }
   ],
   "execution_count": 20
  },
  {
   "metadata": {
    "ExecuteTime": {
     "end_time": "2024-10-26T18:02:53.060569Z",
     "start_time": "2024-10-26T18:02:53.043995Z"
    }
   },
   "cell_type": "code",
   "source": [
    "# Removendo linhas com índice NaN\n",
    "df_desigualdade_genero = df[['País', 'Índice de Desigualdade de Género']].dropna()\n",
    "\n",
    "# Ordenando os países (decrescente - maior desigualdade)\n",
    "bottom20_desigualdade_genero = df_desigualdade_genero.sort_values(by='Índice de Desigualdade de Género', ascending=False).head(20)\n",
    "\n",
    "print(\"20 piores países pelo Índice de Desigualdade de Género (maior para menor):\\n\")\n",
    "print(bottom20_desigualdade_genero.to_string(index=False))\n",
    "\n",
    "# Salvando em CSV\n",
    "bottom20_desigualdade_genero.to_csv('result/bottom-20-desigualdade-genero.csv', index=False)\n",
    "\n",
    "# Salvando em Excel\n",
    "bottom20_desigualdade_genero.to_excel('result/bottom-20-desigualdade-genero.xlsx', index=False)"
   ],
   "id": "1ddd270425cb6b06",
   "outputs": [
    {
     "name": "stdout",
     "output_type": "stream",
     "text": [
      "20 piores países pelo Índice de Desigualdade de Género (maior para menor):\n",
      "\n",
      "                            País  Índice de Desigualdade de Género\n",
      "                           Iémen                             0.820\n",
      "                         Nigéria                             0.677\n",
      "                         Somália                             0.674\n",
      "                           Chade                             0.671\n",
      "                     Afeganistão                             0.665\n",
      "                         Libéria                             0.656\n",
      "                           Benin                             0.649\n",
      "                         Comores                             0.631\n",
      "                    Guiné-Bissau                             0.631\n",
      "                Guiné Equatorial                             0.624\n",
      "                           Haiti                             0.621\n",
      "                      Serra Leoa                             0.613\n",
      "                 Costa do Marfim                             0.612\n",
      "                           Guiné                             0.609\n",
      "                           Níger                             0.609\n",
      "                            Mali                             0.607\n",
      "Congo (República Democrática do)                             0.605\n",
      "                Papua-Nova Guiné                             0.604\n",
      "                      Mauritânia                             0.603\n",
      "                       Quiribati                             0.585\n"
     ]
    }
   ],
   "execution_count": 21
  },
  {
   "metadata": {
    "ExecuteTime": {
     "end_time": "2024-10-26T18:02:53.096073Z",
     "start_time": "2024-10-26T18:02:53.081076Z"
    }
   },
   "cell_type": "code",
   "source": [
    "# Removendo linhas com índice NaN\n",
    "df_pobreza = df[['País', 'Índice de Pobreza Multidimensional']].dropna()\n",
    "\n",
    "# Verificando se há dados disponíveis\n",
    "if not df_pobreza.empty:\n",
    "    # Ordenando os países (decrescente - maior pobreza)\n",
    "    bottom20_pobreza = df_pobreza.sort_values(by='Índice de Pobreza Multidimensional', ascending=False).head(20)\n",
    "\n",
    "    # Exibindo os 20 piores países\n",
    "    print(\"20 piores países pelo Índice de Pobreza Multidimensional (maior para menor):\\n\")\n",
    "    print(bottom20_pobreza.to_string(index=False))\n",
    "\n",
    "    # Salvando os resultados\n",
    "    bottom20_pobreza.to_csv('result/bottom-20-pobreza-multidimensional.csv', index=False)\n",
    "    bottom20_pobreza.to_excel('result/bottom-20-pobreza-multidimensional.xlsx', index=False)\n",
    "else:\n",
    "    print(\"Não há dados disponíveis para o Índice de Pobreza Multidimensional.\")"
   ],
   "id": "1b7bb2bcf05025ce",
   "outputs": [
    {
     "name": "stdout",
     "output_type": "stream",
     "text": [
      "20 piores países pelo Índice de Pobreza Multidimensional (maior para menor):\n",
      "\n",
      "                            País  Índice de Pobreza Multidimensional\n",
      "                           Níger                                91.0\n",
      "                           Chade                                84.2\n",
      "       República Centro-Africana                                80.4\n",
      "                         Burundi                                75.1\n",
      "                         Etiópia                                68.7\n",
      "                      Madagáscar                                68.4\n",
      "                            Mali                                68.3\n",
      "                           Benin                                66.8\n",
      "                  Burquina Fasso                                66.8\n",
      "                           Guiné                                66.2\n",
      "Congo (República Democrática do)                                64.5\n",
      "                         Comores                                64.4\n",
      "                    Guiné-Bissau                                64.4\n",
      "                      Moçambique                                61.9\n",
      "                      Serra Leoa                                59.2\n",
      "                      Mauritânia                                58.4\n",
      "                          Uganda                                57.2\n",
      "   Tanzânia (República Unida da)                                57.1\n",
      "                Papua-Nova Guiné                                56.6\n",
      "                     Afeganistão                                55.9\n"
     ]
    }
   ],
   "execution_count": 22
  },
  {
   "metadata": {
    "ExecuteTime": {
     "end_time": "2024-10-26T18:02:53.126624Z",
     "start_time": "2024-10-26T18:02:53.113175Z"
    }
   },
   "cell_type": "code",
   "source": [
    "# Removendo linhas com índice NaN\n",
    "df_idh_planeta = df[['País', 'IDH ajustado à pressão sobre o planeta']].dropna()\n",
    "\n",
    "# Ordenando os países (crescente)\n",
    "bottom20_idh_planeta = df_idh_planeta.sort_values(by='IDH ajustado à pressão sobre o planeta', ascending=True).head(20)\n",
    "\n",
    "print(\"20 piores países pelo IDH ajustado à pressão sobre o planeta:\\n\")\n",
    "print(bottom20_idh_planeta.to_string(index=False))\n",
    "\n",
    "# Salvando em CSV\n",
    "bottom20_idh_planeta.to_csv('result/bottom-20-idh-ajustado-planeta.csv', index=False)\n",
    "\n",
    "# Salvando em Excel\n",
    "bottom20_idh_planeta.to_excel('result/bottom-20-idh-ajustado-planeta.xlsx', index=False)"
   ],
   "id": "d0b641b759f9cfc2",
   "outputs": [
    {
     "name": "stdout",
     "output_type": "stream",
     "text": [
      "20 piores países pelo IDH ajustado à pressão sobre o planeta:\n",
      "\n",
      "                   País  IDH ajustado à pressão sobre o planeta\n",
      "                  Butão                                   0.615\n",
      "         Turquemenistão                                   0.662\n",
      "                 Líbano                                   0.680\n",
      "               Maldivas                                  34.400\n",
      "                Ucrânia                                  34.400\n",
      "  Palestina (Estado da)                                  35.000\n",
      "            Usbequistão                                  35.300\n",
      "               Jordânia                                  35.400\n",
      "          Quirguizistão                                  36.300\n",
      "                Tunísia                                  36.500\n",
      "      Trindade e Tobago                                  36.600\n",
      "                Geórgia                                  36.600\n",
      "                  Líbia                                  37.100\n",
      "             Costa Rica                                  37.100\n",
      "Moldávia (República da)                                  37.400\n",
      "            Santa Lúcia                                  37.500\n",
      "                  Egito                                  37.600\n",
      "                 Iraque                                  37.900\n",
      "     Bósnia-Herzegovina                                  37.900\n",
      "                Equador                                  38.000\n"
     ]
    }
   ],
   "execution_count": 23
  }
 ],
 "metadata": {
  "kernelspec": {
   "display_name": "Python 3",
   "language": "python",
   "name": "python3"
  },
  "language_info": {
   "codemirror_mode": {
    "name": "ipython",
    "version": 2
   },
   "file_extension": ".py",
   "mimetype": "text/x-python",
   "name": "python",
   "nbconvert_exporter": "python",
   "pygments_lexer": "ipython2",
   "version": "2.7.6"
  }
 },
 "nbformat": 4,
 "nbformat_minor": 5
}
